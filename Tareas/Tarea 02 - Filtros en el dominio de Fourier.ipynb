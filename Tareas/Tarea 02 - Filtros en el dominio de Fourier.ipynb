{
 "cells": [
  {
   "cell_type": "markdown",
   "id": "e51f47df",
   "metadata": {},
   "source": [
    "# Tarea 02"
   ]
  },
  {
   "cell_type": "markdown",
   "id": "34f10764",
   "metadata": {},
   "source": [
    "## 1.Enunciado"
   ]
  },
  {
   "cell_type": "markdown",
   "id": "41bae513",
   "metadata": {},
   "source": [
    "El objetivo de esta tarea es realizar de manera individual un programa que pueda filtrar imagenes ruidosas usando filtros en el dominio de Fourier. En esta carpeta se encuentran 5 fotografías ruidosas en blanco y negro, que deben ser leídas por un programa y procesadas para filtrar el ruido.\n",
    "\n",
    "Se debe realizar un programa que basandose en el espectro de frecuencias en 2D logre eliminar el ruido periodico de las imagens. La entrada del programa es la imagen, la salida es la imagen filtrada. El programa debe ser el mismo para cada imagen, sin embargo, los parametros pueden ser distintos y pueden ser fijados manualmente para cada una de las imagenes. Con este fin disene una funcion que se llame FiltroTarea2 que reciba como entrada la imagen ruidosa 'X' y los n parametros p1, p2, ... pn, de esta manera se ejecuta Y = FiltroTarea2(X,p1,p2,..,pn) para obtener la imagen de salida 'Y'. En la tarea se debe especificar cuales son los parametros para cada una de las imagenes."
   ]
  },
  {
   "cell_type": "markdown",
   "id": "67c36671",
   "metadata": {},
   "source": [
    "## 2.Solución"
   ]
  },
  {
   "cell_type": "code",
   "execution_count": null,
   "id": "a09c2c7f",
   "metadata": {},
   "outputs": [],
   "source": []
  }
 ],
 "metadata": {
  "kernelspec": {
   "display_name": "Python 3",
   "language": "python",
   "name": "python3"
  },
  "language_info": {
   "codemirror_mode": {
    "name": "ipython",
    "version": 3
   },
   "file_extension": ".py",
   "mimetype": "text/x-python",
   "name": "python",
   "nbconvert_exporter": "python",
   "pygments_lexer": "ipython3",
   "version": "3.8.8"
  },
  "toc": {
   "base_numbering": 1,
   "nav_menu": {},
   "number_sections": false,
   "sideBar": true,
   "skip_h1_title": true,
   "title_cell": "Table of Contents",
   "title_sidebar": "Contents",
   "toc_cell": true,
   "toc_position": {},
   "toc_section_display": true,
   "toc_window_display": true
  }
 },
 "nbformat": 4,
 "nbformat_minor": 5
}
